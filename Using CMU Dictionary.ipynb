{
 "cells": [
  {
   "cell_type": "markdown",
   "metadata": {},
   "source": [
    "Library"
   ]
  },
  {
   "cell_type": "code",
   "execution_count": 38,
   "metadata": {},
   "outputs": [],
   "source": [
    "import nltk\n",
    "import speech_recognition as sr\n",
    "from g2p_en import G2p\n",
    "\n",
    "from nltk.corpus import cmudict\n",
    "from colorama import Fore"
   ]
  },
  {
   "cell_type": "markdown",
   "metadata": {},
   "source": [
    "Download CMU Dictionary"
   ]
  },
  {
   "cell_type": "code",
   "execution_count": 37,
   "metadata": {},
   "outputs": [
    {
     "name": "stdout",
     "output_type": "stream",
     "text": [
      "CMUdict is already installed.\n"
     ]
    }
   ],
   "source": [
    "try:\n",
    "    nltk.data.find('corpora/cmudict.zip')\n",
    "    print(\"CMUdict is already installed.\")\n",
    "except LookupError:\n",
    "    nltk.download('cmudict')\n",
    "    print(\"CMUdict has been downloaded successfully.\")\n",
    "d = cmudict.dict()"
   ]
  },
  {
   "cell_type": "markdown",
   "metadata": {},
   "source": [
    "Function to get word pronunciation from CMUdict"
   ]
  },
  {
   "cell_type": "code",
   "execution_count": 36,
   "metadata": {},
   "outputs": [],
   "source": [
    "def get_cmu_pronunciation(word):\n",
    "    word = word.lower()\n",
    "    if word in d:\n",
    "        return d[word]\n",
    "    else:\n",
    "        return None"
   ]
  },
  {
   "cell_type": "markdown",
   "metadata": {},
   "source": [
    "Function to get input from Speech-to-Text"
   ]
  },
  {
   "cell_type": "code",
   "execution_count": 35,
   "metadata": {},
   "outputs": [],
   "source": [
    "audio_file = \"E:\\Perkuliahan\\Semester 4\\Pembelajaran Mesin\\Tugas Membuat Makalah\\Speech-to-text\\Data Suara\\Data 1.wav\""
   ]
  },
  {
   "cell_type": "code",
   "execution_count": 34,
   "metadata": {},
   "outputs": [],
   "source": [
    "def get_speech_to_text(file_path):\n",
    "    recognizer = sr.Recognizer()\n",
    "    with sr.AudioFile(file_path) as source:\n",
    "        audio_data = recognizer.record(source)\n",
    "        try:\n",
    "            text = recognizer.recognize_google(audio_data, language=\"en-us\", show_all=False)\n",
    "            return text.lower()\n",
    "        except sr.UnknownValueError as e:\n",
    "            print(\"Speech recognition could not understand audio\")\n",
    "            return \"\"\n",
    "        except sr.RequestError as e:\n",
    "            print(\"Error from Google Speech Recognition service\")\n",
    "            return \"\""
   ]
  },
  {
   "cell_type": "markdown",
   "metadata": {},
   "source": [
    "Function to convert text to ARPAbet"
   ]
  },
  {
   "cell_type": "code",
   "execution_count": 33,
   "metadata": {},
   "outputs": [],
   "source": [
    "def text_to_arpabet(text):\n",
    "    g2p = G2p()\n",
    "    phonemes = g2p(text)\n",
    "    return ' '.join(phonemes)"
   ]
  },
  {
   "cell_type": "markdown",
   "metadata": {},
   "source": [
    "Function Detect and Correction Error"
   ]
  },
  {
   "cell_type": "code",
   "execution_count": 32,
   "metadata": {},
   "outputs": [],
   "source": [
    "def detect_pronunciation_error(word, user_phonetic):\n",
    "    cmu_pronunciation = get_cmu_pronunciation(word)\n",
    "    if cmu_pronunciation:\n",
    "        cmu_pronunciation = cmu_pronunciation[0]\n",
    "        if len(cmu_pronunciation) != len(user_phonetic):\n",
    "            return \"Panjang pengucapan tidak cocok.\"\n",
    "        for i in range(len(cmu_pronunciation)):\n",
    "            if cmu_pronunciation[i] != user_phonetic[i]:\n",
    "                # print('Kata Salah')\n",
    "                return Fore.RED + word\n",
    "                # return f\"Kesalahan pada fonem ke-{i+1}: CMUdict: {cmu_pronunciation[i]}, Pengguna: {user_phonetic[i]}\"\n",
    "        # print('Kata Benar')\n",
    "        return Fore.GREEN + word\n",
    "    else:\n",
    "        # print('Kata Tidak Ditemukan di CMUdict')\n",
    "        return Fore.YELLOW + word"
   ]
  },
  {
   "cell_type": "markdown",
   "metadata": {},
   "source": [
    "Run"
   ]
  },
  {
   "cell_type": "code",
   "execution_count": 40,
   "metadata": {},
   "outputs": [
    {
     "name": "stdout",
     "output_type": "stream",
     "text": [
      "\u001b[32mlondon \u001b[32mthe \u001b[32mcapital \u001b[32mcity \u001b[32mof \u001b[32mthe \u001b[32munited \u001b[32mkingdom \u001b[32mis \u001b[32mfive \u001b[32mper \u001b[32mmetropolis \u001b[32mrich \u001b[32min \u001b[32mhistory \u001b[32mand \u001b[32mculture \u001b[32mknown \u001b[32mas \u001b[32mthe \u001b[32msquare \u001b[32mmile \u001b[32mof \u001b[32mthe \u001b[32mcity \u001b[32mof \u001b[32mlondon \u001b[32mis \u001b[32mthe \u001b[32mhistory \u001b[32mcalled \u001b[32mwhere \u001b[32mthe \u001b[32mromans \u001b[32mfirst \u001b[32mestablished \u001b[32mthe \u001b[32mlondon \u001b[32mname \u001b[32mtoday \u001b[32mit's \u001b[32ma \u001b[32mmajor \u001b[32mbusiness \u001b[32mand \u001b[32mfinancial \u001b[32mcenter \u001b[32mhouse \u001b[32mof \u001b[32mthe \u001b[32mbank \u001b[32mof \u001b[32mengland \u001b[32mthe \u001b[32mreal \u001b[32mexchange \u001b[32mand \u001b[32mthe \u001b[32mlondon \u001b[32mstock \u001b[32mexchange \u001b[32mdespite \u001b[32min \u001b[32mthe \u001b[32mmodern \u001b[32mskyscrapers \u001b[32mlike \u001b[32mthe \u001b[32mcaptain \u001b[32mand \u001b[32mthe \u001b[33mwalkie-talkie \u001b[32mlondon \u001b[32mretains \u001b[32mits \u001b[32mhistorical \u001b[32mcharm \u001b[32mweatherly \u001b[32munchanged \u001b[32msince \u001b[32mthe \u001b[32mmiddle \u001b[32mof \u001b[32mall \u001b[32mtimes \u001b[32mmaking \u001b[32mit \u001b[32munique \u001b[32mblend \u001b[32mof \u001b[32mancient \u001b[32mand \u001b[32mthe \u001b[32mcontemporary \u001b[32mwhat \u001b[32mis \u001b[32msmaller \u001b[32mthan \u001b[32mpopulation\n"
     ]
    }
   ],
   "source": [
    "input_words = get_speech_to_text(audio_file).split()\n",
    "output_words = []\n",
    "for input_word in input_words:\n",
    "    user_phonetic_trancription = text_to_arpabet(input_word)\n",
    "\n",
    "    user_phonetic = user_phonetic_trancription.split()\n",
    "    output_words.append(detect_pronunciation_error(input_word, user_phonetic))\n",
    "print(' '.join(output_words))"
   ]
  }
 ],
 "metadata": {
  "kernelspec": {
   "display_name": "Python 3",
   "language": "python",
   "name": "python3"
  },
  "language_info": {
   "codemirror_mode": {
    "name": "ipython",
    "version": 3
   },
   "file_extension": ".py",
   "mimetype": "text/x-python",
   "name": "python",
   "nbconvert_exporter": "python",
   "pygments_lexer": "ipython3",
   "version": "3.11.5"
  }
 },
 "nbformat": 4,
 "nbformat_minor": 2
}
