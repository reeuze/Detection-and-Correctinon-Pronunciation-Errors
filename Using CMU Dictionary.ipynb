{
 "cells": [
  {
   "cell_type": "markdown",
   "metadata": {},
   "source": [
    "Library"
   ]
  },
  {
   "cell_type": "code",
   "execution_count": 11,
   "metadata": {},
   "outputs": [
    {
     "name": "stderr",
     "output_type": "stream",
     "text": [
      "[nltk_data] Downloading package averaged_perceptron_tagger to\n",
      "[nltk_data]     C:\\Users\\aditt\\AppData\\Roaming\\nltk_data...\n",
      "[nltk_data]   Unzipping taggers\\averaged_perceptron_tagger.zip.\n"
     ]
    }
   ],
   "source": [
    "import nltk\n",
    "import phonemizer\n",
    "import speech_recognition as sr\n",
    "from g2p_en import G2p\n",
    "\n",
    "from nltk.corpus import cmudict\n",
    "from phonemizer import phonemize"
   ]
  },
  {
   "cell_type": "markdown",
   "metadata": {},
   "source": [
    "Download CMU Dictionary"
   ]
  },
  {
   "cell_type": "code",
   "execution_count": 12,
   "metadata": {},
   "outputs": [
    {
     "name": "stdout",
     "output_type": "stream",
     "text": [
      "CMUdict is already installed.\n"
     ]
    }
   ],
   "source": [
    "try:\n",
    "    nltk.data.find('corpora/cmudict.zip')\n",
    "    print(\"CMUdict is already installed.\")\n",
    "except LookupError:\n",
    "    nltk.download('cmudict')\n",
    "    print(\"CMUdict has been downloaded successfully.\")\n",
    "d = cmudict.dict()"
   ]
  },
  {
   "cell_type": "markdown",
   "metadata": {},
   "source": [
    "Function to get word pronunciation from CMUdict"
   ]
  },
  {
   "cell_type": "code",
   "execution_count": 13,
   "metadata": {},
   "outputs": [],
   "source": [
    "def get_cmu_pronunciation(word):\n",
    "    word = word.lower()\n",
    "    if word in d:\n",
    "        return d[word]\n",
    "    else:\n",
    "        return None"
   ]
  },
  {
   "cell_type": "markdown",
   "metadata": {},
   "source": [
    "Function to get input from Speech-to-Text"
   ]
  },
  {
   "cell_type": "code",
   "execution_count": 14,
   "metadata": {},
   "outputs": [],
   "source": [
    "audio_file = \"E:\\Perkuliahan\\Semester 4\\Pembelajaran Mesin\\Tugas Membuat Makalah\\Speech-to-text\\Data Suara\\Data 1.wav\""
   ]
  },
  {
   "cell_type": "code",
   "execution_count": 15,
   "metadata": {},
   "outputs": [],
   "source": [
    "def get_speech_to_text(file_path):\n",
    "    recognizer = sr.Recognizer()\n",
    "    with sr.AudioFile(file_path) as source:\n",
    "        audio_data = recognizer.record(source)\n",
    "        try:\n",
    "            text = recognizer.recognize_google(audio_data, language=\"en-us\", show_all=False)\n",
    "            return text.lower()\n",
    "        except sr.UnknownValueError as e:\n",
    "            print(\"Speech recognition could not understand audio\")\n",
    "            return \"\"\n",
    "        except sr.RequestError as e:\n",
    "            print(\"Error from Google Speech Recognition service\")\n",
    "            return \"\""
   ]
  },
  {
   "cell_type": "markdown",
   "metadata": {},
   "source": [
    "Function to convert text to ARPAbet"
   ]
  },
  {
   "cell_type": "code",
   "execution_count": 16,
   "metadata": {},
   "outputs": [],
   "source": [
    "def text_to_arpabet(text):\n",
    "    g2p = G2p()\n",
    "    phonemes = g2p(text)\n",
    "    return ' '.join(phonemes)"
   ]
  },
  {
   "cell_type": "markdown",
   "metadata": {},
   "source": [
    "Function Detect and Correction Error"
   ]
  },
  {
   "cell_type": "code",
   "execution_count": 17,
   "metadata": {},
   "outputs": [],
   "source": [
    "def detect_and_correction_pronunciation_error(word, user_pronunciation):\n",
    "    cmu_pronunciation = get_cmu_pronunciation(word)\n",
    "    if cmu_pronunciation:\n",
    "        cmu_pronunciation = cmu_pronunciation[0]\n",
    "        if len(cmu_pronunciation) != len(user_pronunciation):\n",
    "            return \"Panjang pengucapan tidak cocok.\"\n",
    "        for i in range(len(cmu_pronunciation)):\n",
    "            if cmu_pronunciation[i] != user_pronunciation[i]:\n",
    "                return f\"Kesalahan pada fonem ke-{i+1}: CMUdict: {cmu_pronunciation[i]}, Pengguna: {user_pronunciation[i]}\"\n",
    "        return \"Pengucapan sesuai dengan CMUdict.\"\n",
    "    else:\n",
    "        return \"Kata tidak ditemukan di CMUdict.\""
   ]
  },
  {
   "cell_type": "markdown",
   "metadata": {},
   "source": [
    "Run"
   ]
  },
  {
   "cell_type": "code",
   "execution_count": 18,
   "metadata": {},
   "outputs": [],
   "source": [
    "input_word = get_speech_to_text(audio_file)\n",
    "user_phonetic_trancription = text_to_arpabet(input_word)\n",
    "\n",
    "print (input_word)\n",
    "print (user_phonetic_trancription)\n",
    "# user_pronunciation = user_phonetic_trancription.split()\n",
    "# error_message = detect_and_correction_pronunciation_error(input_word, user_pronunciation)\n",
    "# print(error_message)"
   ]
  }
 ],
 "metadata": {
  "kernelspec": {
   "display_name": "Python 3",
   "language": "python",
   "name": "python3"
  },
  "language_info": {
   "codemirror_mode": {
    "name": "ipython",
    "version": 3
   },
   "file_extension": ".py",
   "mimetype": "text/x-python",
   "name": "python",
   "nbconvert_exporter": "python",
   "pygments_lexer": "ipython3",
   "version": "3.11.5"
  }
 },
 "nbformat": 4,
 "nbformat_minor": 2
}
