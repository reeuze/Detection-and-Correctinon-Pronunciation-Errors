{
 "cells": [
  {
   "cell_type": "markdown",
   "metadata": {},
   "source": [
    "Library"
   ]
  },
  {
   "cell_type": "code",
   "execution_count": 38,
   "metadata": {},
   "outputs": [],
   "source": [
    "import nltk\n",
    "import speech_recognition as sr\n",
    "from g2p_en import G2p\n",
    "\n",
    "from nltk.corpus import cmudict\n",
    "from colorama import Fore"
   ]
  },
  {
   "cell_type": "markdown",
   "metadata": {},
   "source": [
    "Download CMU Dictionary"
   ]
  },
  {
   "cell_type": "code",
   "execution_count": 37,
   "metadata": {},
   "outputs": [
    {
     "name": "stdout",
     "output_type": "stream",
     "text": [
      "CMUdict is already installed.\n"
     ]
    }
   ],
   "source": [
    "try:\n",
    "    nltk.data.find('corpora/cmudict.zip')\n",
    "    print(\"CMUdict is already installed.\")\n",
    "except LookupError:\n",
    "    nltk.download('cmudict')\n",
    "    print(\"CMUdict has been downloaded successfully.\")\n",
    "d = cmudict.dict()"
   ]
  },
  {
   "cell_type": "markdown",
   "metadata": {},
   "source": [
    "Function to get word pronunciation from CMUdict"
   ]
  },
  {
   "cell_type": "code",
   "execution_count": 36,
   "metadata": {},
   "outputs": [],
   "source": [
    "def get_cmu_pronunciation(word):\n",
    "    word = word.lower()\n",
    "    if word in d:\n",
    "        return d[word]\n",
    "    else:\n",
    "        return None"
   ]
  },
  {
   "cell_type": "markdown",
   "metadata": {},
   "source": [
    "Function to get input from Speech-to-Text"
   ]
  },
  {
   "cell_type": "code",
   "execution_count": 41,
   "metadata": {},
   "outputs": [],
   "source": [
    "audio_file = \"E:\\Perkuliahan\\Semester 4\\Pembelajaran Mesin\\Tugas Membuat Makalah\\Speech-to-text\\Data Suara\\Data 8.wav\""
   ]
  },
  {
   "cell_type": "code",
   "execution_count": 34,
   "metadata": {},
   "outputs": [],
   "source": [
    "def get_speech_to_text(file_path):\n",
    "    recognizer = sr.Recognizer()\n",
    "    with sr.AudioFile(file_path) as source:\n",
    "        audio_data = recognizer.record(source)\n",
    "        try:\n",
    "            text = recognizer.recognize_google(audio_data, language=\"en-us\", show_all=False)\n",
    "            return text.lower()\n",
    "        except sr.UnknownValueError as e:\n",
    "            print(\"Speech recognition could not understand audio\")\n",
    "            return \"\"\n",
    "        except sr.RequestError as e:\n",
    "            print(\"Error from Google Speech Recognition service\")\n",
    "            return \"\""
   ]
  },
  {
   "cell_type": "markdown",
   "metadata": {},
   "source": [
    "Function to convert text to ARPAbet"
   ]
  },
  {
   "cell_type": "code",
   "execution_count": 33,
   "metadata": {},
   "outputs": [],
   "source": [
    "def text_to_arpabet(text):\n",
    "    g2p = G2p()\n",
    "    phonemes = g2p(text)\n",
    "    return ' '.join(phonemes)"
   ]
  },
  {
   "cell_type": "markdown",
   "metadata": {},
   "source": [
    "Function Detect and Correction Error"
   ]
  },
  {
   "cell_type": "code",
   "execution_count": 32,
   "metadata": {},
   "outputs": [],
   "source": [
    "def detect_pronunciation_error(word, user_phonetic):\n",
    "    cmu_pronunciation = get_cmu_pronunciation(word)\n",
    "    if cmu_pronunciation:\n",
    "        cmu_pronunciation = cmu_pronunciation[0]\n",
    "        if len(cmu_pronunciation) != len(user_phonetic):\n",
    "            return \"Panjang pengucapan tidak cocok.\"\n",
    "        for i in range(len(cmu_pronunciation)):\n",
    "            if cmu_pronunciation[i] != user_phonetic[i]:\n",
    "                # print('Kata Salah')\n",
    "                return Fore.RED + word\n",
    "                # return f\"Kesalahan pada fonem ke-{i+1}: CMUdict: {cmu_pronunciation[i]}, Pengguna: {user_phonetic[i]}\"\n",
    "        # print('Kata Benar')\n",
    "        return Fore.GREEN + word\n",
    "    else:\n",
    "        # print('Kata Tidak Ditemukan di CMUdict')\n",
    "        return Fore.YELLOW + word"
   ]
  },
  {
   "cell_type": "markdown",
   "metadata": {},
   "source": [
    "Run"
   ]
  },
  {
   "cell_type": "code",
   "execution_count": 42,
   "metadata": {},
   "outputs": [],
   "source": [
    "input_words = get_speech_to_text(audio_file).split()\n",
    "output_words = []\n",
    "for input_word in input_words:\n",
    "    user_phonetic_trancription = text_to_arpabet(input_word)\n",
    "\n",
    "    user_phonetic = user_phonetic_trancription.split()\n",
    "    output_words.append(detect_pronunciation_error(input_word, user_phonetic))\n",
    "print(' '.join(output_words))"
   ]
  }
 ],
 "metadata": {
  "kernelspec": {
   "display_name": "Python 3",
   "language": "python",
   "name": "python3"
  },
  "language_info": {
   "codemirror_mode": {
    "name": "ipython",
    "version": 3
   },
   "file_extension": ".py",
   "mimetype": "text/x-python",
   "name": "python",
   "nbconvert_exporter": "python",
   "pygments_lexer": "ipython3",
   "version": "3.11.5"
  }
 },
 "nbformat": 4,
 "nbformat_minor": 2
}
