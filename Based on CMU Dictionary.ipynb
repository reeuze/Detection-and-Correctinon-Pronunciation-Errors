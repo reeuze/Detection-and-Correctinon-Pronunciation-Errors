{
 "cells": [
  {
   "cell_type": "markdown",
   "metadata": {},
   "source": [
    "Library"
   ]
  },
  {
   "cell_type": "code",
   "execution_count": 3,
   "metadata": {},
   "outputs": [],
   "source": [
    "import nltk\n",
    "import speech_recognition as sr\n",
    "\n",
    "from g2p_en import G2p\n",
    "from nltk.corpus import cmudict\n",
    "from colorama import Fore"
   ]
  },
  {
   "cell_type": "markdown",
   "metadata": {},
   "source": [
    "Download CMU Dictionary"
   ]
  },
  {
   "cell_type": "code",
   "execution_count": 4,
   "metadata": {},
   "outputs": [
    {
     "name": "stdout",
     "output_type": "stream",
     "text": [
      "CMUdict is already installed.\n"
     ]
    }
   ],
   "source": [
    "try:\n",
    "    nltk.data.find('corpora/cmudict.zip')\n",
    "    print(\"CMUdict is already installed.\")\n",
    "except LookupError:\n",
    "    nltk.download('cmudict')\n",
    "    print(\"CMUdict has been downloaded successfully.\")\n",
    "d = cmudict.dict()"
   ]
  },
  {
   "cell_type": "markdown",
   "metadata": {},
   "source": [
    "Function to get word pronunciation from CMUdict"
   ]
  },
  {
   "cell_type": "code",
   "execution_count": 5,
   "metadata": {},
   "outputs": [],
   "source": [
    "def get_cmu_pronunciation(word):\n",
    "    word = word.lower()\n",
    "    if word in d:\n",
    "        return d[word]\n",
    "    else:\n",
    "        return None"
   ]
  },
  {
   "cell_type": "markdown",
   "metadata": {},
   "source": [
    "Function to get input from Speech-to-Text"
   ]
  },
  {
   "cell_type": "code",
   "execution_count": 6,
   "metadata": {},
   "outputs": [],
   "source": [
    "audio_file = \"E:\\Perkuliahan\\Semester 4\\Pembelajaran Mesin\\Tugas Membuat Makalah\\Speech-to-text\\Data Suara\\Data 8.wav\""
   ]
  },
  {
   "cell_type": "code",
   "execution_count": 7,
   "metadata": {},
   "outputs": [],
   "source": [
    "def get_speech_to_text(file_path):\n",
    "    recognizer = sr.Recognizer()\n",
    "    with sr.AudioFile(file_path) as source:\n",
    "        audio_data = recognizer.record(source)\n",
    "        try:\n",
    "            text = recognizer.recognize_google(audio_data, language=\"en-us\", show_all=False)\n",
    "            return text.lower()\n",
    "        except sr.UnknownValueError as e:\n",
    "            print(\"Speech recognition could not understand audio\")\n",
    "            return \"\"\n",
    "        except sr.RequestError as e:\n",
    "            print(\"Error from Google Speech Recognition service\")\n",
    "            return \"\""
   ]
  },
  {
   "cell_type": "markdown",
   "metadata": {},
   "source": [
    "Function to convert text to ARPAbet"
   ]
  },
  {
   "cell_type": "code",
   "execution_count": 8,
   "metadata": {},
   "outputs": [],
   "source": [
    "def text_to_arpabet(text):\n",
    "    g2p = G2p()\n",
    "    phonemes = g2p(text)\n",
    "    return ' '.join(phonemes)"
   ]
  },
  {
   "cell_type": "markdown",
   "metadata": {},
   "source": [
    "Function Error Detection"
   ]
  },
  {
   "cell_type": "code",
   "execution_count": 9,
   "metadata": {},
   "outputs": [],
   "source": [
    "def detect_pronunciation_error(word, phonetic):\n",
    "    cmu_pronunciation = get_cmu_pronunciation(word)\n",
    "    if cmu_pronunciation:\n",
    "        cmu_pronunciation = cmu_pronunciation[0]\n",
    "        if len(cmu_pronunciation) != len(phonetic):\n",
    "            return \"Panjang pengucapan tidak cocok.\"\n",
    "        for i in range(len(cmu_pronunciation)):\n",
    "            if cmu_pronunciation[i] != phonetic[i]:\n",
    "                # print('Kata Salah')\n",
    "                return Fore.RED + word\n",
    "                # return f\"Kesalahan pada fonem ke-{i+1}: CMUdict: {cmu_pronunciation[i]}, Pengguna: {user_phonetic[i]}\"\n",
    "        # print('Kata Benar')\n",
    "        return Fore.GREEN + word\n",
    "    else:\n",
    "        # print('Kata Tidak Ditemukan di CMUdict')\n",
    "        return Fore.YELLOW + word"
   ]
  },
  {
   "cell_type": "markdown",
   "metadata": {},
   "source": [
    "Detection Error"
   ]
  },
  {
   "cell_type": "code",
   "execution_count": 10,
   "metadata": {},
   "outputs": [
    {
     "name": "stdout",
     "output_type": "stream",
     "text": [
      "\u001b[32mlondon \u001b[32mthe \u001b[32mcapital \u001b[32mcity \u001b[32mof \u001b[32mthe \u001b[32munited \u001b[32mkingdom \u001b[32mis \u001b[32ma \u001b[32mfire \u001b[32mmetabolic \u001b[32mrate \u001b[32min \u001b[32mhistory \u001b[32mand \u001b[32mculture \u001b[32mknow \u001b[32mas \u001b[32mthe \u001b[32msquare \u001b[32mmile \u001b[32mthe \u001b[32mcity \u001b[32mof \u001b[32mlondon \u001b[32mis \u001b[32mthe \u001b[32mhistorical \u001b[32mwhere \u001b[32mthe \u001b[32mromans \u001b[32mfirst \u001b[32mestablished \u001b[32mlondon \u001b[32myou \u001b[32mtoday \u001b[32mit's \u001b[32ma \u001b[32mmajor \u001b[32mbusiness \u001b[32mand \u001b[32mfinancial \u001b[32mcenter \u001b[32mhosting \u001b[32mthe \u001b[32mbank \u001b[32mof \u001b[32mengland \u001b[32mthe \u001b[32mroyal \u001b[32mexchange \u001b[32mand \u001b[32mlondon \u001b[32mstock \u001b[32mexchange \u001b[32mdespite \u001b[32mhis \u001b[32mmother \u001b[32mand \u001b[32msky \u001b[32mcharacters \u001b[32mlike \u001b[32mthe \u001b[32mhurricane \u001b[32mand \u001b[32mthe \u001b[32mwalking \u001b[32mdistance \u001b[32mfrom \u001b[32mtower \u001b[32mof \u001b[32mlondon \u001b[32mthe \u001b[32mcity \u001b[32mmissouri \u001b[32mweather\n"
     ]
    }
   ],
   "source": [
    "input_words = get_speech_to_text(audio_file).split()\n",
    "output_words = []\n",
    "for input_word in input_words:\n",
    "    user_phonetic_trancription = text_to_arpabet(input_word)\n",
    "\n",
    "    user_phonetic = user_phonetic_trancription.split()\n",
    "    output_words.append(detect_pronunciation_error(input_word, user_phonetic))\n",
    "print(' '.join(output_words))"
   ]
  }
 ],
 "metadata": {
  "kernelspec": {
   "display_name": "Python 3",
   "language": "python",
   "name": "python3"
  },
  "language_info": {
   "codemirror_mode": {
    "name": "ipython",
    "version": 3
   },
   "file_extension": ".py",
   "mimetype": "text/x-python",
   "name": "python",
   "nbconvert_exporter": "python",
   "pygments_lexer": "ipython3",
   "version": "3.11.5"
  }
 },
 "nbformat": 4,
 "nbformat_minor": 2
}
