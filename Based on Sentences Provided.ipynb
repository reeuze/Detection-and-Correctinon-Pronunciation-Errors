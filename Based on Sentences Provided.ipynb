{
 "cells": [
  {
   "cell_type": "markdown",
   "metadata": {},
   "source": [
    "Library"
   ]
  },
  {
   "cell_type": "code",
   "execution_count": 1,
   "metadata": {},
   "outputs": [],
   "source": [
    "import speech_recognition as sr\n",
    "\n",
    "from g2p_en import G2p\n",
    "from colorama import Fore"
   ]
  },
  {
   "cell_type": "markdown",
   "metadata": {},
   "source": [
    "Provided Sentences"
   ]
  },
  {
   "cell_type": "code",
   "execution_count": 2,
   "metadata": {},
   "outputs": [],
   "source": [
    "sentence = \"London, the capital city of the United Kingdom, is a vibrant metropolis rich in history and culture.Known as the 'Square Mile', the City of London is the historic core where the Romans first established Londinium. Today, it's a major business and financial center, housing the Bank of England, the Royal Exchange, and the London Stock Exchange. Despite its modern skyscrapers like the Gherkin and the Walkie Talkie, London retains its historical charm with landmarks such as Tower of London. The city's boundaries have remained nearly unchanged since medieval times, making it a unique blend of ancient and contemporary. With a small resident population but a bustling daytime workforce, the City is always alive with activity, reflecting its status as one of the world's leading financial hubs.\""
   ]
  },
  {
   "cell_type": "markdown",
   "metadata": {},
   "source": [
    "Function to convert Text to ARPAbet"
   ]
  },
  {
   "cell_type": "code",
   "execution_count": 3,
   "metadata": {},
   "outputs": [],
   "source": [
    "g2p = G2p()\n",
    "def text_to_arpabet(text):\n",
    "    phonemes = g2p(text)\n",
    "    return phonemes"
   ]
  },
  {
   "cell_type": "markdown",
   "metadata": {},
   "source": [
    "Function to Compare word based on ARPAbet"
   ]
  },
  {
   "cell_type": "code",
   "execution_count": 4,
   "metadata": {},
   "outputs": [],
   "source": [
    "def compare_pronunciations(word1, word2):\n",
    "    phonemes1 = text_to_arpabet(word1)\n",
    "    phonemes2 = text_to_arpabet(word2)\n",
    "    return phonemes1 == phonemes2"
   ]
  },
  {
   "cell_type": "markdown",
   "metadata": {},
   "source": []
  },
  {
   "cell_type": "code",
   "execution_count": null,
   "metadata": {},
   "outputs": [],
   "source": []
  }
 ],
 "metadata": {
  "kernelspec": {
   "display_name": "Python 3",
   "language": "python",
   "name": "python3"
  },
  "language_info": {
   "codemirror_mode": {
    "name": "ipython",
    "version": 3
   },
   "file_extension": ".py",
   "mimetype": "text/x-python",
   "name": "python",
   "nbconvert_exporter": "python",
   "pygments_lexer": "ipython3",
   "version": "3.11.5"
  }
 },
 "nbformat": 4,
 "nbformat_minor": 2
}
