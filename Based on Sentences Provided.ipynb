{
 "cells": [
  {
   "cell_type": "markdown",
   "metadata": {},
   "source": [
    "Library"
   ]
  },
  {
   "cell_type": "code",
   "execution_count": 1,
   "metadata": {},
   "outputs": [],
   "source": [
    "import speech_recognition as sr\n",
    "\n",
    "from g2p_en import G2p\n",
    "from colorama import Fore"
   ]
  },
  {
   "cell_type": "markdown",
   "metadata": {},
   "source": [
    "Source"
   ]
  },
  {
   "cell_type": "code",
   "execution_count": 2,
   "metadata": {},
   "outputs": [],
   "source": [
    "sentence = \"London, the capital city of the United Kingdom, is a vibrant metropolis rich in history and culture.Known as the 'Square Mile', the City of London is the historic core where the Romans first established Londinium. Today, it's a major business and financial center, housing the Bank of England, the Royal Exchange, and the London Stock Exchange. Despite its modern skyscrapers like the Gherkin and the Walkie Talkie, London retains its historical charm with landmarks such as Tower of London. The city's boundaries have remained nearly unchanged since medieval times, making it a unique blend of ancient and contemporary. With a small resident population but a bustling daytime workforce, the City is always alive with activity, reflecting its status as one of the world's leading financial hubs.\""
   ]
  },
  {
   "cell_type": "code",
   "execution_count": null,
   "metadata": {},
   "outputs": [],
   "source": [
    "audio_file = \"E:\\Perkuliahan\\Semester 4\\Pembelajaran Mesin\\Tugas Membuat Makalah\\Speech-to-text\\Data Suara\\Data 8.wav\""
   ]
  },
  {
   "cell_type": "markdown",
   "metadata": {},
   "source": [
    "Function to get input from Speech-to-Text"
   ]
  },
  {
   "cell_type": "code",
   "execution_count": null,
   "metadata": {},
   "outputs": [],
   "source": [
    "def get_speech_to_text(file_path):\n",
    "    recognizer = sr.Recognizer()\n",
    "    with sr.AudioFile(file_path) as source:\n",
    "        audio_data = recognizer.record(source)\n",
    "        try:\n",
    "            text = recognizer.recognize_google(audio_data, language=\"en-us\", show_all=False)\n",
    "            return text.lower()\n",
    "        except sr.UnknownValueError as e:\n",
    "            print(\"Speech recognition could not understand audio\")\n",
    "            return \"\"\n",
    "        except sr.RequestError as e:\n",
    "            print(\"Error from Google Speech Recognition service\")\n",
    "            return \"\""
   ]
  },
  {
   "cell_type": "markdown",
   "metadata": {},
   "source": [
    "Function to convert Text to ARPAbet"
   ]
  },
  {
   "cell_type": "code",
   "execution_count": 3,
   "metadata": {},
   "outputs": [],
   "source": [
    "g2p = G2p()\n",
    "def text_to_arpabet(text):\n",
    "    phonemes = g2p(text)\n",
    "    return phonemes"
   ]
  },
  {
   "cell_type": "markdown",
   "metadata": {},
   "source": [
    "Function to Compare word based on ARPAbet"
   ]
  },
  {
   "cell_type": "code",
   "execution_count": 4,
   "metadata": {},
   "outputs": [],
   "source": [
    "def compare_pronunciations(word1, word2):\n",
    "    phonemes1 = text_to_arpabet(word1)\n",
    "    phonemes2 = text_to_arpabet(word2)\n",
    "    return phonemes1 == phonemes2"
   ]
  },
  {
   "cell_type": "markdown",
   "metadata": {},
   "source": [
    "Function Error Detection"
   ]
  },
  {
   "cell_type": "code",
   "execution_count": null,
   "metadata": {},
   "outputs": [],
   "source": [
    "def detect_pronunciation_error(provided_sentences, user_sentences):\n",
    "    refernce_words = provided_sentences.split()\n",
    "    user_words = user_sentences.split()\n",
    "    result = []\n",
    "    for reference, user in zip(refernce_words, user_words):\n",
    "        correct = compare_pronunciations(reference, user)\n",
    "        if not correct:\n",
    "            result.append({\n",
    "                'ref' : reference,\n",
    "                'user' : Fore.RED + user\n",
    "            })\n",
    "        else:\n",
    "            result.append({\n",
    "                'ref' : reference,\n",
    "                'user' : Fore.RED + user\n",
    "            })\n",
    "    return result"
   ]
  },
  {
   "cell_type": "markdown",
   "metadata": {},
   "source": [
    "Run"
   ]
  },
  {
   "cell_type": "code",
   "execution_count": null,
   "metadata": {},
   "outputs": [],
   "source": [
    "user_words = get_speech_to_text(audio_file)\n",
    "results = detect_pronunciation_error(sentence, user_words)\n",
    "\n",
    "for result in results:\n",
    "    print(f'{result['ref']} <-> {result['user']}')"
   ]
  }
 ],
 "metadata": {
  "kernelspec": {
   "display_name": "Python 3",
   "language": "python",
   "name": "python3"
  },
  "language_info": {
   "codemirror_mode": {
    "name": "ipython",
    "version": 3
   },
   "file_extension": ".py",
   "mimetype": "text/x-python",
   "name": "python",
   "nbconvert_exporter": "python",
   "pygments_lexer": "ipython3",
   "version": "3.11.5"
  }
 },
 "nbformat": 4,
 "nbformat_minor": 2
}
