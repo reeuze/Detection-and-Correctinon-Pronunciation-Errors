{
 "cells": [
  {
   "cell_type": "markdown",
   "metadata": {},
   "source": [
    "Library"
   ]
  },
  {
   "cell_type": "code",
   "execution_count": 47,
   "metadata": {},
   "outputs": [],
   "source": [
    "import speech_recognition as sr\n",
    "import difflib"
   ]
  },
  {
   "cell_type": "markdown",
   "metadata": {},
   "source": [
    "Source"
   ]
  },
  {
   "cell_type": "code",
   "execution_count": 48,
   "metadata": {},
   "outputs": [],
   "source": [
    "reference_sentence = \"london the capital city of the united kingdom is a vibrant metropolis rich in history and culture Known as the square mile the city of london is the historic core where the romans first established londinium today it's a major business and financial center housing the Bank of England the royal exchange and the london stock exchange despite its modern skyscrapers like the gherkin and the walkie talkie london retains its historical charm with landmarks such as tower of london the city's boundaries have remained nearly unchanged since medieval times making it a unique blend of ancient and contemporary with a small resident population but a bustling daytime workforce the city is always alive with activity reflecting its status as one of the world's leading financial hubs.\""
   ]
  },
  {
   "cell_type": "code",
   "execution_count": 49,
   "metadata": {},
   "outputs": [],
   "source": [
    "audio_file = \"E:\\Perkuliahan\\Semester 4\\Pembelajaran Mesin\\Tugas Membuat Makalah\\Speech-to-text\\Data Suara\\Data 8.wav\""
   ]
  },
  {
   "cell_type": "markdown",
   "metadata": {},
   "source": [
    "Function to get input from Speech-to-Text"
   ]
  },
  {
   "cell_type": "code",
   "execution_count": 50,
   "metadata": {},
   "outputs": [],
   "source": [
    "def get_speech_to_text(file_path):\n",
    "    recognizer = sr.Recognizer()\n",
    "    with sr.AudioFile(file_path) as source:\n",
    "        audio_data = recognizer.record(source)\n",
    "        try:\n",
    "            text = recognizer.recognize_google(audio_data, language=\"en-us\", show_all=False)\n",
    "            return text.lower()\n",
    "        except sr.UnknownValueError as e:\n",
    "            print(\"Speech recognition could not understand audio\")\n",
    "            return \"\"\n",
    "        except sr.RequestError as e:\n",
    "            print(\"Error from Google Speech Recognition service\")\n",
    "            return \"\""
   ]
  },
  {
   "cell_type": "markdown",
   "metadata": {},
   "source": [
    "Function Calculate Error"
   ]
  },
  {
   "cell_type": "code",
   "execution_count": 64,
   "metadata": {},
   "outputs": [],
   "source": [
    "def Calculate_error(test_words, reference_words):\n",
    "    matcher = difflib.SequenceMatcher(None, test_words, reference_words)\n",
    "    error = 0\n",
    "    for tag, i1, i2, j1, j2 in matcher.get_opcodes():\n",
    "        if tag != 'equal':\n",
    "            error += max(i2 - i1, j2 - j1)\n",
    "    return error"
   ]
  },
  {
   "cell_type": "markdown",
   "metadata": {},
   "source": [
    "Function Error Detection and Correction"
   ]
  },
  {
   "cell_type": "code",
   "execution_count": 65,
   "metadata": {},
   "outputs": [],
   "source": [
    "def Error_Detection_and_Correction(reference_sentence, test_sentence):\n",
    "    reference_words = reference_sentence.split()\n",
    "    test_words = test_sentence.split()\n",
    "\n",
    "    difference = difflib.ndiff(test_words, reference_words)\n",
    "    matcher = difflib.SequenceMatcher(None, test_words, reference_words)\n",
    "\n",
    "    # Look for the difference between user words and reference words\n",
    "    diff = []\n",
    "    for word in difference:\n",
    "        if word.startswith('- '):\n",
    "            diff.append(f\"Reference missing: {word[2:]}\")\n",
    "        elif word.startswith('+ '):\n",
    "            diff.append(f\"Extra in test: {word[2:]}\")\n",
    "        elif word.startswith('? '):\n",
    "            pass  # This line shows markers for different characters, we can ignore it\n",
    "    \n",
    "    # Calculate errors test words\n",
    "    error_test = Calculate_error(test_words, reference_words)\n",
    "\n",
    "    # Correct the user sentence\n",
    "    corrected_sentence = []\n",
    "    for tag, i1, i2, j1, j2 in matcher.get_opcodes():\n",
    "        if tag == 'equal':\n",
    "            corrected_sentence.extend(test_words[i1:i2])\n",
    "        elif tag == 'replace':\n",
    "            corrected_sentence.extend(reference_words[j1:j2])\n",
    "        elif tag == 'insert':\n",
    "            corrected_sentence.extend(reference_words[j1:j2])\n",
    "        elif tag == 'delete':\n",
    "            continue\n",
    "\n",
    "    # Calculate errors corrected sentence\n",
    "    error_corrected = Calculate_error(corrected_sentence, reference_words)\n",
    "\n",
    "    return diff, error_test, error_corrected, ' '.join(corrected_sentence)\n"
   ]
  },
  {
   "cell_type": "markdown",
   "metadata": {},
   "source": [
    "Print Result"
   ]
  },
  {
   "cell_type": "code",
   "execution_count": 68,
   "metadata": {},
   "outputs": [],
   "source": [
    "test_sentence = get_speech_to_text(audio_file)\n",
    "Error_words, error_test, error_corrected, corrected_sentence = Error_Detection_and_Correction(reference_sentence, test_sentence)\n",
    "errors_test = (error_test/len(sentence.split()))*100\n",
    "errors_corrected = (error_corrected/len(sentence.split()))*100"
   ]
  },
  {
   "cell_type": "code",
   "execution_count": 69,
   "metadata": {},
   "outputs": [
    {
     "name": "stdout",
     "output_type": "stream",
     "text": [
      "errors before corrected: 58.26771653543307 %\n",
      "Test sentence: \n",
      " ->  london the capital city of the united kingdom is a fire metabolic rate in history and culture know as the square mile the city of london is the historical where the romans first established london you today it's a major business and financial center hosting the bank of england the royal exchange and london stock exchange despite his mother and sky characters like the hurricane and the walking distance from tower of london the city missouri weather\n",
      "Reference sentence: \n",
      " ->  london the capital city of the united kingdom is a vibrant metropolis rich in history and culture Known as the square mile the city of london is the historic core where the romans first established londinium today it's a major business and financial center housing the Bank of England the royal exchange and the london stock exchange despite its modern skyscrapers like the gherkin and the walkie talkie london retains its historical charm with landmarks such as tower of london the city's boundaries have remained nearly unchanged since medieval times making it a unique blend of ancient and contemporary with a small resident population but a bustling daytime workforce the city is always alive with activity reflecting its status as one of the world's leading financial hubs.\n",
      "Corrected sentence: \n",
      " ->  london the capital city of the united kingdom is a vibrant metropolis rich in history and culture Known as the square mile the city of london is the historic core where the romans first established londinium today it's a major business and financial center housing the Bank of England the royal exchange and the london stock exchange despite its modern skyscrapers like the gherkin and the walkie talkie london retains its historical charm with landmarks such as tower of london the city's boundaries have remained nearly unchanged since medieval times making it a unique blend of ancient and contemporary with a small resident population but a bustling daytime workforce the city is always alive with activity reflecting its status as one of the world's leading financial hubs.\n",
      "errors after corrected: 0.0 %\n"
     ]
    }
   ],
   "source": [
    "# for word in Error_words:\n",
    "#     print(word)\n",
    "# print('\\n')\n",
    "print(f\"errors before corrected: {errors_test} %\")\n",
    "print(\"Test sentence: \\n -> \", test_sentence)\n",
    "print(\"Reference sentence: \\n -> \", sentence)\n",
    "print(\"Corrected sentence: \\n -> \", corrected_sentence)\n",
    "print(f\"errors after corrected: {errors_corrected} %\")"
   ]
  }
 ],
 "metadata": {
  "kernelspec": {
   "display_name": "Python 3",
   "language": "python",
   "name": "python3"
  },
  "language_info": {
   "codemirror_mode": {
    "name": "ipython",
    "version": 3
   },
   "file_extension": ".py",
   "mimetype": "text/x-python",
   "name": "python",
   "nbconvert_exporter": "python",
   "pygments_lexer": "ipython3",
   "version": "3.11.5"
  }
 },
 "nbformat": 4,
 "nbformat_minor": 2
}
